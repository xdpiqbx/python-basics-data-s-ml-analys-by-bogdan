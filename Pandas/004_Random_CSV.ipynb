{
 "cells": [
  {
   "cell_type": "code",
   "execution_count": 42,
   "metadata": {},
   "outputs": [],
   "source": [
    "# !pip install openpyxl matplotlib"
   ]
  },
  {
   "cell_type": "code",
   "execution_count": 46,
   "metadata": {},
   "outputs": [],
   "source": [
    "import pandas as pd\n",
    "import numpy as np\n",
    "import matplotlib.pyplot as plt"
   ]
  },
  {
   "cell_type": "markdown",
   "metadata": {},
   "source": [
    "### Fill DataFrame with random data"
   ]
  },
  {
   "cell_type": "code",
   "execution_count": 27,
   "metadata": {},
   "outputs": [
    {
     "data": {
      "text/html": [
       "<div>\n",
       "<style scoped>\n",
       "    .dataframe tbody tr th:only-of-type {\n",
       "        vertical-align: middle;\n",
       "    }\n",
       "\n",
       "    .dataframe tbody tr th {\n",
       "        vertical-align: top;\n",
       "    }\n",
       "\n",
       "    .dataframe thead th {\n",
       "        text-align: right;\n",
       "    }\n",
       "</style>\n",
       "<table border=\"1\" class=\"dataframe\">\n",
       "  <thead>\n",
       "    <tr style=\"text-align: right;\">\n",
       "      <th></th>\n",
       "      <th>Date</th>\n",
       "      <th>Product</th>\n",
       "      <th>Price</th>\n",
       "      <th>Quantity</th>\n",
       "    </tr>\n",
       "  </thead>\n",
       "  <tbody>\n",
       "    <tr>\n",
       "      <th>0</th>\n",
       "      <td>2050-01-01</td>\n",
       "      <td>Microphone</td>\n",
       "      <td>147.16</td>\n",
       "      <td>7</td>\n",
       "    </tr>\n",
       "    <tr>\n",
       "      <th>1</th>\n",
       "      <td>2050-01-02</td>\n",
       "      <td>Keyboard</td>\n",
       "      <td>103.09</td>\n",
       "      <td>10</td>\n",
       "    </tr>\n",
       "    <tr>\n",
       "      <th>2</th>\n",
       "      <td>2050-01-03</td>\n",
       "      <td>Tablet</td>\n",
       "      <td>164.48</td>\n",
       "      <td>7</td>\n",
       "    </tr>\n",
       "    <tr>\n",
       "      <th>3</th>\n",
       "      <td>2050-01-04</td>\n",
       "      <td>Camera</td>\n",
       "      <td>103.48</td>\n",
       "      <td>1</td>\n",
       "    </tr>\n",
       "    <tr>\n",
       "      <th>4</th>\n",
       "      <td>2050-01-05</td>\n",
       "      <td>Microphone</td>\n",
       "      <td>162.92</td>\n",
       "      <td>1</td>\n",
       "    </tr>\n",
       "    <tr>\n",
       "      <th>...</th>\n",
       "      <td>...</td>\n",
       "      <td>...</td>\n",
       "      <td>...</td>\n",
       "      <td>...</td>\n",
       "    </tr>\n",
       "    <tr>\n",
       "      <th>95</th>\n",
       "      <td>2050-04-06</td>\n",
       "      <td>Phone</td>\n",
       "      <td>119.32</td>\n",
       "      <td>8</td>\n",
       "    </tr>\n",
       "    <tr>\n",
       "      <th>96</th>\n",
       "      <td>2050-04-07</td>\n",
       "      <td>Tablet</td>\n",
       "      <td>69.84</td>\n",
       "      <td>7</td>\n",
       "    </tr>\n",
       "    <tr>\n",
       "      <th>97</th>\n",
       "      <td>2050-04-08</td>\n",
       "      <td>Phone</td>\n",
       "      <td>164.64</td>\n",
       "      <td>3</td>\n",
       "    </tr>\n",
       "    <tr>\n",
       "      <th>98</th>\n",
       "      <td>2050-04-09</td>\n",
       "      <td>Keyboard</td>\n",
       "      <td>81.91</td>\n",
       "      <td>11</td>\n",
       "    </tr>\n",
       "    <tr>\n",
       "      <th>99</th>\n",
       "      <td>2050-04-10</td>\n",
       "      <td>Camera</td>\n",
       "      <td>61.14</td>\n",
       "      <td>13</td>\n",
       "    </tr>\n",
       "  </tbody>\n",
       "</table>\n",
       "<p>100 rows × 4 columns</p>\n",
       "</div>"
      ],
      "text/plain": [
       "         Date     Product   Price  Quantity\n",
       "0  2050-01-01  Microphone  147.16         7\n",
       "1  2050-01-02    Keyboard  103.09        10\n",
       "2  2050-01-03      Tablet  164.48         7\n",
       "3  2050-01-04      Camera  103.48         1\n",
       "4  2050-01-05  Microphone  162.92         1\n",
       "..        ...         ...     ...       ...\n",
       "95 2050-04-06       Phone  119.32         8\n",
       "96 2050-04-07      Tablet   69.84         7\n",
       "97 2050-04-08       Phone  164.64         3\n",
       "98 2050-04-09    Keyboard   81.91        11\n",
       "99 2050-04-10      Camera   61.14        13\n",
       "\n",
       "[100 rows x 4 columns]"
      ]
     },
     "execution_count": 27,
     "metadata": {},
     "output_type": "execute_result"
    }
   ],
   "source": [
    "np.random.seed(1)\n",
    "n = 100\n",
    "dates = pd.date_range(start='2050-01-01', periods=n, freq='D')\n",
    "products = np.random.choice(['Tablet', 'Camera', 'Phone', 'Microphone', 'Keyboard'], n)\n",
    "prices = np.round(np.random.uniform(50., 200., n), 2)\n",
    "quantities = np.random.randint(1, 15, n)\n",
    "\n",
    "data = {\n",
    "    'Date': dates,\n",
    "    'Product': products,\n",
    "    'Price': prices,\n",
    "    'Quantity': quantities\n",
    "}\n",
    "\n",
    "df = pd.DataFrame(data)\n",
    "df"
   ]
  },
  {
   "cell_type": "code",
   "execution_count": 28,
   "metadata": {},
   "outputs": [
    {
     "data": {
      "text/plain": [
       "Date        datetime64[ns]\n",
       "Product             object\n",
       "Price              float64\n",
       "Quantity             int32\n",
       "dtype: object"
      ]
     },
     "execution_count": 28,
     "metadata": {},
     "output_type": "execute_result"
    }
   ],
   "source": [
    "df.dtypes"
   ]
  },
  {
   "cell_type": "markdown",
   "metadata": {},
   "source": [
    "### DataFrame to CSV file"
   ]
  },
  {
   "cell_type": "code",
   "execution_count": 29,
   "metadata": {},
   "outputs": [],
   "source": [
    "df.to_csv('./randon_sales.csv', index=False)"
   ]
  },
  {
   "cell_type": "markdown",
   "metadata": {},
   "source": [
    "### DataFrame from CSV file"
   ]
  },
  {
   "cell_type": "code",
   "execution_count": 30,
   "metadata": {},
   "outputs": [
    {
     "data": {
      "text/html": [
       "<div>\n",
       "<style scoped>\n",
       "    .dataframe tbody tr th:only-of-type {\n",
       "        vertical-align: middle;\n",
       "    }\n",
       "\n",
       "    .dataframe tbody tr th {\n",
       "        vertical-align: top;\n",
       "    }\n",
       "\n",
       "    .dataframe thead th {\n",
       "        text-align: right;\n",
       "    }\n",
       "</style>\n",
       "<table border=\"1\" class=\"dataframe\">\n",
       "  <thead>\n",
       "    <tr style=\"text-align: right;\">\n",
       "      <th></th>\n",
       "      <th>Date</th>\n",
       "      <th>Product</th>\n",
       "      <th>Price</th>\n",
       "      <th>Quantity</th>\n",
       "    </tr>\n",
       "  </thead>\n",
       "  <tbody>\n",
       "    <tr>\n",
       "      <th>0</th>\n",
       "      <td>2050-01-01</td>\n",
       "      <td>Microphone</td>\n",
       "      <td>147.16</td>\n",
       "      <td>7</td>\n",
       "    </tr>\n",
       "    <tr>\n",
       "      <th>1</th>\n",
       "      <td>2050-01-02</td>\n",
       "      <td>Keyboard</td>\n",
       "      <td>103.09</td>\n",
       "      <td>10</td>\n",
       "    </tr>\n",
       "    <tr>\n",
       "      <th>2</th>\n",
       "      <td>2050-01-03</td>\n",
       "      <td>Tablet</td>\n",
       "      <td>164.48</td>\n",
       "      <td>7</td>\n",
       "    </tr>\n",
       "    <tr>\n",
       "      <th>3</th>\n",
       "      <td>2050-01-04</td>\n",
       "      <td>Camera</td>\n",
       "      <td>103.48</td>\n",
       "      <td>1</td>\n",
       "    </tr>\n",
       "    <tr>\n",
       "      <th>4</th>\n",
       "      <td>2050-01-05</td>\n",
       "      <td>Microphone</td>\n",
       "      <td>162.92</td>\n",
       "      <td>1</td>\n",
       "    </tr>\n",
       "  </tbody>\n",
       "</table>\n",
       "</div>"
      ],
      "text/plain": [
       "        Date     Product   Price  Quantity\n",
       "0 2050-01-01  Microphone  147.16         7\n",
       "1 2050-01-02    Keyboard  103.09        10\n",
       "2 2050-01-03      Tablet  164.48         7\n",
       "3 2050-01-04      Camera  103.48         1\n",
       "4 2050-01-05  Microphone  162.92         1"
      ]
     },
     "execution_count": 30,
     "metadata": {},
     "output_type": "execute_result"
    }
   ],
   "source": [
    "df_from_csv = pd.read_csv(\n",
    "        './randon_sales.csv', \n",
    "        parse_dates=['Date'],\n",
    "        date_format='%Y-%m-%d'\n",
    "    )\n",
    "df.head()"
   ]
  },
  {
   "cell_type": "code",
   "execution_count": 31,
   "metadata": {},
   "outputs": [
    {
     "data": {
      "text/plain": [
       "Date        datetime64[ns]\n",
       "Product             object\n",
       "Price              float64\n",
       "Quantity             int32\n",
       "dtype: object"
      ]
     },
     "execution_count": 31,
     "metadata": {},
     "output_type": "execute_result"
    }
   ],
   "source": [
    "df.dtypes"
   ]
  },
  {
   "cell_type": "markdown",
   "metadata": {},
   "source": [
    "### DataFrame to `.xlsx` to `.json`"
   ]
  },
  {
   "cell_type": "code",
   "execution_count": 32,
   "metadata": {},
   "outputs": [],
   "source": [
    "df.to_excel('sales_data.xlsx', index=False)"
   ]
  },
  {
   "cell_type": "code",
   "execution_count": 33,
   "metadata": {},
   "outputs": [],
   "source": [
    "df.to_json('sales_data.json')"
   ]
  },
  {
   "cell_type": "markdown",
   "metadata": {},
   "source": [
    "### DataFrame from `.xlsx` from `.json`"
   ]
  },
  {
   "cell_type": "code",
   "execution_count": 34,
   "metadata": {},
   "outputs": [
    {
     "data": {
      "text/html": [
       "<div>\n",
       "<style scoped>\n",
       "    .dataframe tbody tr th:only-of-type {\n",
       "        vertical-align: middle;\n",
       "    }\n",
       "\n",
       "    .dataframe tbody tr th {\n",
       "        vertical-align: top;\n",
       "    }\n",
       "\n",
       "    .dataframe thead th {\n",
       "        text-align: right;\n",
       "    }\n",
       "</style>\n",
       "<table border=\"1\" class=\"dataframe\">\n",
       "  <thead>\n",
       "    <tr style=\"text-align: right;\">\n",
       "      <th></th>\n",
       "      <th>Date</th>\n",
       "      <th>Product</th>\n",
       "      <th>Price</th>\n",
       "      <th>Quantity</th>\n",
       "    </tr>\n",
       "  </thead>\n",
       "  <tbody>\n",
       "    <tr>\n",
       "      <th>0</th>\n",
       "      <td>2050-01-01</td>\n",
       "      <td>Microphone</td>\n",
       "      <td>147.16</td>\n",
       "      <td>7</td>\n",
       "    </tr>\n",
       "    <tr>\n",
       "      <th>1</th>\n",
       "      <td>2050-01-02</td>\n",
       "      <td>Keyboard</td>\n",
       "      <td>103.09</td>\n",
       "      <td>10</td>\n",
       "    </tr>\n",
       "    <tr>\n",
       "      <th>2</th>\n",
       "      <td>2050-01-03</td>\n",
       "      <td>Tablet</td>\n",
       "      <td>164.48</td>\n",
       "      <td>7</td>\n",
       "    </tr>\n",
       "    <tr>\n",
       "      <th>3</th>\n",
       "      <td>2050-01-04</td>\n",
       "      <td>Camera</td>\n",
       "      <td>103.48</td>\n",
       "      <td>1</td>\n",
       "    </tr>\n",
       "    <tr>\n",
       "      <th>4</th>\n",
       "      <td>2050-01-05</td>\n",
       "      <td>Microphone</td>\n",
       "      <td>162.92</td>\n",
       "      <td>1</td>\n",
       "    </tr>\n",
       "  </tbody>\n",
       "</table>\n",
       "</div>"
      ],
      "text/plain": [
       "        Date     Product   Price  Quantity\n",
       "0 2050-01-01  Microphone  147.16         7\n",
       "1 2050-01-02    Keyboard  103.09        10\n",
       "2 2050-01-03      Tablet  164.48         7\n",
       "3 2050-01-04      Camera  103.48         1\n",
       "4 2050-01-05  Microphone  162.92         1"
      ]
     },
     "execution_count": 34,
     "metadata": {},
     "output_type": "execute_result"
    }
   ],
   "source": [
    "df_from_json = pd.read_json('./sales_data.json')\n",
    "df_from_json.head()"
   ]
  },
  {
   "cell_type": "code",
   "execution_count": 35,
   "metadata": {},
   "outputs": [
    {
     "data": {
      "text/html": [
       "<div>\n",
       "<style scoped>\n",
       "    .dataframe tbody tr th:only-of-type {\n",
       "        vertical-align: middle;\n",
       "    }\n",
       "\n",
       "    .dataframe tbody tr th {\n",
       "        vertical-align: top;\n",
       "    }\n",
       "\n",
       "    .dataframe thead th {\n",
       "        text-align: right;\n",
       "    }\n",
       "</style>\n",
       "<table border=\"1\" class=\"dataframe\">\n",
       "  <thead>\n",
       "    <tr style=\"text-align: right;\">\n",
       "      <th></th>\n",
       "      <th>Date</th>\n",
       "      <th>Product</th>\n",
       "      <th>Price</th>\n",
       "      <th>Quantity</th>\n",
       "    </tr>\n",
       "  </thead>\n",
       "  <tbody>\n",
       "    <tr>\n",
       "      <th>0</th>\n",
       "      <td>2050-01-01</td>\n",
       "      <td>Microphone</td>\n",
       "      <td>147.16</td>\n",
       "      <td>7</td>\n",
       "    </tr>\n",
       "    <tr>\n",
       "      <th>1</th>\n",
       "      <td>2050-01-02</td>\n",
       "      <td>Keyboard</td>\n",
       "      <td>103.09</td>\n",
       "      <td>10</td>\n",
       "    </tr>\n",
       "    <tr>\n",
       "      <th>2</th>\n",
       "      <td>2050-01-03</td>\n",
       "      <td>Tablet</td>\n",
       "      <td>164.48</td>\n",
       "      <td>7</td>\n",
       "    </tr>\n",
       "    <tr>\n",
       "      <th>3</th>\n",
       "      <td>2050-01-04</td>\n",
       "      <td>Camera</td>\n",
       "      <td>103.48</td>\n",
       "      <td>1</td>\n",
       "    </tr>\n",
       "    <tr>\n",
       "      <th>4</th>\n",
       "      <td>2050-01-05</td>\n",
       "      <td>Microphone</td>\n",
       "      <td>162.92</td>\n",
       "      <td>1</td>\n",
       "    </tr>\n",
       "  </tbody>\n",
       "</table>\n",
       "</div>"
      ],
      "text/plain": [
       "        Date     Product   Price  Quantity\n",
       "0 2050-01-01  Microphone  147.16         7\n",
       "1 2050-01-02    Keyboard  103.09        10\n",
       "2 2050-01-03      Tablet  164.48         7\n",
       "3 2050-01-04      Camera  103.48         1\n",
       "4 2050-01-05  Microphone  162.92         1"
      ]
     },
     "execution_count": 35,
     "metadata": {},
     "output_type": "execute_result"
    }
   ],
   "source": [
    "df_from_json = pd.read_excel('./sales_data.xlsx')\n",
    "df_from_json.head()"
   ]
  },
  {
   "cell_type": "markdown",
   "metadata": {},
   "source": [
    "## Analysis"
   ]
  },
  {
   "cell_type": "code",
   "execution_count": 36,
   "metadata": {},
   "outputs": [
    {
     "data": {
      "text/html": [
       "<div>\n",
       "<style scoped>\n",
       "    .dataframe tbody tr th:only-of-type {\n",
       "        vertical-align: middle;\n",
       "    }\n",
       "\n",
       "    .dataframe tbody tr th {\n",
       "        vertical-align: top;\n",
       "    }\n",
       "\n",
       "    .dataframe thead th {\n",
       "        text-align: right;\n",
       "    }\n",
       "</style>\n",
       "<table border=\"1\" class=\"dataframe\">\n",
       "  <thead>\n",
       "    <tr style=\"text-align: right;\">\n",
       "      <th></th>\n",
       "      <th>Date</th>\n",
       "      <th>Price</th>\n",
       "      <th>Quantity</th>\n",
       "    </tr>\n",
       "  </thead>\n",
       "  <tbody>\n",
       "    <tr>\n",
       "      <th>count</th>\n",
       "      <td>100</td>\n",
       "      <td>100.00</td>\n",
       "      <td>100.00</td>\n",
       "    </tr>\n",
       "    <tr>\n",
       "      <th>mean</th>\n",
       "      <td>2050-02-19 12:00:00</td>\n",
       "      <td>117.32</td>\n",
       "      <td>7.79</td>\n",
       "    </tr>\n",
       "    <tr>\n",
       "      <th>min</th>\n",
       "      <td>2050-01-01 00:00:00</td>\n",
       "      <td>51.35</td>\n",
       "      <td>1.00</td>\n",
       "    </tr>\n",
       "    <tr>\n",
       "      <th>25%</th>\n",
       "      <td>2050-01-25 18:00:00</td>\n",
       "      <td>81.13</td>\n",
       "      <td>5.00</td>\n",
       "    </tr>\n",
       "    <tr>\n",
       "      <th>50%</th>\n",
       "      <td>2050-02-19 12:00:00</td>\n",
       "      <td>114.10</td>\n",
       "      <td>8.00</td>\n",
       "    </tr>\n",
       "    <tr>\n",
       "      <th>75%</th>\n",
       "      <td>2050-03-16 06:00:00</td>\n",
       "      <td>161.21</td>\n",
       "      <td>11.25</td>\n",
       "    </tr>\n",
       "    <tr>\n",
       "      <th>max</th>\n",
       "      <td>2050-04-10 00:00:00</td>\n",
       "      <td>197.26</td>\n",
       "      <td>14.00</td>\n",
       "    </tr>\n",
       "    <tr>\n",
       "      <th>std</th>\n",
       "      <td>NaN</td>\n",
       "      <td>42.47</td>\n",
       "      <td>4.03</td>\n",
       "    </tr>\n",
       "  </tbody>\n",
       "</table>\n",
       "</div>"
      ],
      "text/plain": [
       "                      Date   Price  Quantity\n",
       "count                  100  100.00    100.00\n",
       "mean   2050-02-19 12:00:00  117.32      7.79\n",
       "min    2050-01-01 00:00:00   51.35      1.00\n",
       "25%    2050-01-25 18:00:00   81.13      5.00\n",
       "50%    2050-02-19 12:00:00  114.10      8.00\n",
       "75%    2050-03-16 06:00:00  161.21     11.25\n",
       "max    2050-04-10 00:00:00  197.26     14.00\n",
       "std                    NaN   42.47      4.03"
      ]
     },
     "execution_count": 36,
     "metadata": {},
     "output_type": "execute_result"
    }
   ],
   "source": [
    "df.describe().round(2)"
   ]
  },
  {
   "cell_type": "code",
   "execution_count": 37,
   "metadata": {},
   "outputs": [
    {
     "data": {
      "text/plain": [
       "array([[Timestamp('2050-01-01 00:00:00'), 'Microphone', 147.16, 7],\n",
       "       [Timestamp('2050-01-02 00:00:00'), 'Keyboard', 103.09, 10],\n",
       "       [Timestamp('2050-01-03 00:00:00'), 'Tablet', 164.48, 7],\n",
       "       [Timestamp('2050-01-04 00:00:00'), 'Camera', 103.48, 1],\n",
       "       [Timestamp('2050-01-05 00:00:00'), 'Microphone', 162.92, 1],\n",
       "       [Timestamp('2050-01-06 00:00:00'), 'Tablet', 182.2, 3],\n",
       "       [Timestamp('2050-01-07 00:00:00'), 'Tablet', 51.75, 13],\n",
       "       [Timestamp('2050-01-08 00:00:00'), 'Camera', 124.72, 10],\n",
       "       [Timestamp('2050-01-09 00:00:00'), 'Keyboard', 61.07, 7],\n",
       "       [Timestamp('2050-01-10 00:00:00'), 'Keyboard', 168.04, 1],\n",
       "       [Timestamp('2050-01-11 00:00:00'), 'Camera', 59.61, 7],\n",
       "       [Timestamp('2050-01-12 00:00:00'), 'Phone', 103.3, 8],\n",
       "       [Timestamp('2050-01-13 00:00:00'), 'Keyboard', 191.28, 1],\n",
       "       [Timestamp('2050-01-14 00:00:00'), 'Phone', 106.97, 4],\n",
       "       [Timestamp('2050-01-15 00:00:00'), 'Keyboard', 164.44, 10],\n",
       "       [Timestamp('2050-01-16 00:00:00'), 'Microphone', 165.74, 1],\n",
       "       [Timestamp('2050-01-17 00:00:00'), 'Keyboard', 95.2, 13],\n",
       "       [Timestamp('2050-01-18 00:00:00'), 'Phone', 165.91, 4],\n",
       "       [Timestamp('2050-01-19 00:00:00'), 'Keyboard', 72.94, 11],\n",
       "       [Timestamp('2050-01-20 00:00:00'), 'Phone', 136.8, 12],\n",
       "       [Timestamp('2050-01-21 00:00:00'), 'Keyboard', 51.35, 5],\n",
       "       [Timestamp('2050-01-22 00:00:00'), 'Camera', 156.36, 8],\n",
       "       [Timestamp('2050-01-23 00:00:00'), 'Camera', 120.6, 6],\n",
       "       [Timestamp('2050-01-24 00:00:00'), 'Tablet', 164.69, 13],\n",
       "       [Timestamp('2050-01-25 00:00:00'), 'Camera', 120.11, 4],\n",
       "       [Timestamp('2050-01-26 00:00:00'), 'Camera', 90.35, 9],\n",
       "       [Timestamp('2050-01-27 00:00:00'), 'Camera', 174.75, 9],\n",
       "       [Timestamp('2050-01-28 00:00:00'), 'Camera', 132.7, 1],\n",
       "       [Timestamp('2050-01-29 00:00:00'), 'Tablet', 60.51, 7],\n",
       "       [Timestamp('2050-01-30 00:00:00'), 'Keyboard', 120.87, 8],\n",
       "       [Timestamp('2050-01-31 00:00:00'), 'Camera', 161.41, 13],\n",
       "       [Timestamp('2050-02-01 00:00:00'), 'Tablet', 78.79, 14],\n",
       "       [Timestamp('2050-02-02 00:00:00'), 'Tablet', 119.65, 10],\n",
       "       [Timestamp('2050-02-03 00:00:00'), 'Microphone', 84.55, 6],\n",
       "       [Timestamp('2050-02-04 00:00:00'), 'Phone', 126.24, 5],\n",
       "       [Timestamp('2050-02-05 00:00:00'), 'Camera', 81.29, 10],\n",
       "       [Timestamp('2050-02-06 00:00:00'), 'Tablet', 57.4, 11],\n",
       "       [Timestamp('2050-02-07 00:00:00'), 'Microphone', 127.83, 6],\n",
       "       [Timestamp('2050-02-08 00:00:00'), 'Camera', 75.84, 3],\n",
       "       [Timestamp('2050-02-09 00:00:00'), 'Camera', 109.45, 14],\n",
       "       [Timestamp('2050-02-10 00:00:00'), 'Microphone', 66.1, 13],\n",
       "       [Timestamp('2050-02-11 00:00:00'), 'Keyboard', 126.47, 6],\n",
       "       [Timestamp('2050-02-12 00:00:00'), 'Tablet', 65.32, 7],\n",
       "       [Timestamp('2050-02-13 00:00:00'), 'Camera', 93.31, 12],\n",
       "       [Timestamp('2050-02-14 00:00:00'), 'Microphone', 84.76, 7],\n",
       "       [Timestamp('2050-02-15 00:00:00'), 'Keyboard', 195.15, 13],\n",
       "       [Timestamp('2050-02-16 00:00:00'), 'Phone', 91.75, 13],\n",
       "       [Timestamp('2050-02-17 00:00:00'), 'Keyboard', 85.04, 9],\n",
       "       [Timestamp('2050-02-18 00:00:00'), 'Tablet', 63.73, 12],\n",
       "       [Timestamp('2050-02-19 00:00:00'), 'Microphone', 135.51, 11],\n",
       "       [Timestamp('2050-02-20 00:00:00'), 'Camera', 112.69, 13],\n",
       "       [Timestamp('2050-02-21 00:00:00'), 'Phone', 105.18, 8],\n",
       "       [Timestamp('2050-02-22 00:00:00'), 'Tablet', 171.95, 8],\n",
       "       [Timestamp('2050-02-23 00:00:00'), 'Keyboard', 93.46, 8],\n",
       "       [Timestamp('2050-02-24 00:00:00'), 'Camera', 157.61, 14],\n",
       "       [Timestamp('2050-02-25 00:00:00'), 'Phone', 141.94, 12],\n",
       "       [Timestamp('2050-02-26 00:00:00'), 'Phone', 114.04, 13],\n",
       "       [Timestamp('2050-02-27 00:00:00'), 'Camera', 162.78, 3],\n",
       "       [Timestamp('2050-02-28 00:00:00'), 'Tablet', 114.17, 7],\n",
       "       [Timestamp('2050-03-01 00:00:00'), 'Camera', 114.26, 12],\n",
       "       [Timestamp('2050-03-02 00:00:00'), 'Microphone', 104.29, 1],\n",
       "       [Timestamp('2050-03-03 00:00:00'), 'Keyboard', 73.0, 14],\n",
       "       [Timestamp('2050-03-04 00:00:00'), 'Microphone', 190.58, 6],\n",
       "       [Timestamp('2050-03-05 00:00:00'), 'Camera', 187.46, 3],\n",
       "       [Timestamp('2050-03-06 00:00:00'), 'Microphone', 167.29, 2],\n",
       "       [Timestamp('2050-03-07 00:00:00'), 'Tablet', 142.45, 12],\n",
       "       [Timestamp('2050-03-08 00:00:00'), 'Tablet', 55.4, 11],\n",
       "       [Timestamp('2050-03-09 00:00:00'), 'Phone', 148.15, 9],\n",
       "       [Timestamp('2050-03-10 00:00:00'), 'Phone', 69.47, 6],\n",
       "       [Timestamp('2050-03-11 00:00:00'), 'Camera', 94.15, 10],\n",
       "       [Timestamp('2050-03-12 00:00:00'), 'Microphone', 104.12, 5],\n",
       "       [Timestamp('2050-03-13 00:00:00'), 'Keyboard', 91.2, 10],\n",
       "       [Timestamp('2050-03-14 00:00:00'), 'Phone', 61.1, 12],\n",
       "       [Timestamp('2050-03-15 00:00:00'), 'Tablet', 72.82, 12],\n",
       "       [Timestamp('2050-03-16 00:00:00'), 'Tablet', 74.24, 2],\n",
       "       [Timestamp('2050-03-17 00:00:00'), 'Camera', 190.81, 3],\n",
       "       [Timestamp('2050-03-18 00:00:00'), 'Camera', 105.67, 1],\n",
       "       [Timestamp('2050-03-19 00:00:00'), 'Microphone', 57.5, 11],\n",
       "       [Timestamp('2050-03-20 00:00:00'), 'Tablet', 161.14, 5],\n",
       "       [Timestamp('2050-03-21 00:00:00'), 'Tablet', 94.8, 8],\n",
       "       [Timestamp('2050-03-22 00:00:00'), 'Keyboard', 80.65, 1],\n",
       "       [Timestamp('2050-03-23 00:00:00'), 'Phone', 197.26, 7],\n",
       "       [Timestamp('2050-03-24 00:00:00'), 'Keyboard', 183.95, 3],\n",
       "       [Timestamp('2050-03-25 00:00:00'), 'Microphone', 163.9, 5],\n",
       "       [Timestamp('2050-03-26 00:00:00'), 'Microphone', 147.67, 4],\n",
       "       [Timestamp('2050-03-27 00:00:00'), 'Tablet', 55.95, 7],\n",
       "       [Timestamp('2050-03-28 00:00:00'), 'Microphone', 172.08, 13],\n",
       "       [Timestamp('2050-03-29 00:00:00'), 'Keyboard', 164.39, 8],\n",
       "       [Timestamp('2050-03-30 00:00:00'), 'Microphone', 118.29, 7],\n",
       "       [Timestamp('2050-03-31 00:00:00'), 'Keyboard', 129.77, 4],\n",
       "       [Timestamp('2050-04-01 00:00:00'), 'Keyboard', 66.4, 1],\n",
       "       [Timestamp('2050-04-02 00:00:00'), 'Keyboard', 71.9, 14],\n",
       "       [Timestamp('2050-04-03 00:00:00'), 'Camera', 126.32, 7],\n",
       "       [Timestamp('2050-04-04 00:00:00'), 'Tablet', 82.35, 14],\n",
       "       [Timestamp('2050-04-05 00:00:00'), 'Keyboard', 187.47, 5],\n",
       "       [Timestamp('2050-04-06 00:00:00'), 'Phone', 119.32, 8],\n",
       "       [Timestamp('2050-04-07 00:00:00'), 'Tablet', 69.84, 7],\n",
       "       [Timestamp('2050-04-08 00:00:00'), 'Phone', 164.64, 3],\n",
       "       [Timestamp('2050-04-09 00:00:00'), 'Keyboard', 81.91, 11],\n",
       "       [Timestamp('2050-04-10 00:00:00'), 'Camera', 61.14, 13]],\n",
       "      dtype=object)"
      ]
     },
     "execution_count": 37,
     "metadata": {},
     "output_type": "execute_result"
    }
   ],
   "source": [
    "df.values"
   ]
  },
  {
   "cell_type": "code",
   "execution_count": 38,
   "metadata": {},
   "outputs": [
    {
     "data": {
      "text/plain": [
       "array([[Timestamp('2050-01-01 00:00:00'), 'Microphone', 147.16, 7],\n",
       "       [Timestamp('2050-01-02 00:00:00'), 'Keyboard', 103.09, 10],\n",
       "       [Timestamp('2050-01-03 00:00:00'), 'Tablet', 164.48, 7],\n",
       "       [Timestamp('2050-01-04 00:00:00'), 'Camera', 103.48, 1],\n",
       "       [Timestamp('2050-01-05 00:00:00'), 'Microphone', 162.92, 1]],\n",
       "      dtype=object)"
      ]
     },
     "execution_count": 38,
     "metadata": {},
     "output_type": "execute_result"
    }
   ],
   "source": [
    "df.values[:5]"
   ]
  },
  {
   "cell_type": "markdown",
   "metadata": {},
   "source": [
    "### `.groupby()`"
   ]
  },
  {
   "cell_type": "code",
   "execution_count": 44,
   "metadata": {},
   "outputs": [
    {
     "data": {
      "text/plain": [
       "Product\n",
       "Camera        186\n",
       "Keyboard      173\n",
       "Microphone    106\n",
       "Phone         124\n",
       "Tablet        190\n",
       "Name: Quantity, dtype: int32"
      ]
     },
     "execution_count": 44,
     "metadata": {},
     "output_type": "execute_result"
    }
   ],
   "source": [
    "product_sales = df.groupby('Product')['Quantity'].sum()\n",
    "product_sales"
   ]
  },
  {
   "cell_type": "code",
   "execution_count": 45,
   "metadata": {},
   "outputs": [
    {
     "data": {
      "text/plain": [
       "Product\n",
       "Camera        121.54\n",
       "Keyboard      115.61\n",
       "Microphone    129.43\n",
       "Phone         123.47\n",
       "Tablet        100.17\n",
       "Name: Price, dtype: float64"
      ]
     },
     "execution_count": 45,
     "metadata": {},
     "output_type": "execute_result"
    }
   ],
   "source": [
    "product_price = df.groupby('Product')['Price'].mean().round(2)\n",
    "product_price"
   ]
  },
  {
   "cell_type": "markdown",
   "metadata": {},
   "source": [
    "## `Matplotlib`"
   ]
  },
  {
   "cell_type": "code",
   "execution_count": 56,
   "metadata": {},
   "outputs": [
    {
     "data": {
      "image/png": "[encoded data removed]",
      "text/plain": [
       "<Figure size 640x480 with 1 Axes>"
      ]
     },
     "metadata": {},
     "output_type": "display_data"
    }
   ],
   "source": [
    "plt.title('Total sales per product')\n",
    "plt.xlabel('Product')\n",
    "plt.ylabel('Total sales')\n",
    "plt.bar(product_sales.index, product_sales.values, color=['red', 'green', 'blue'])\n",
    "plt.show()"
   ]
  },
  {
   "cell_type": "code",
   "execution_count": 62,
   "metadata": {},
   "outputs": [
    {
     "data": {
      "image/png": "[encoded data removed]",
      "text/plain": [
       "<Figure size 640x480 with 1 Axes>"
      ]
     },
     "metadata": {},
     "output_type": "display_data"
    }
   ],
   "source": [
    "plt.title('Average price per product')\n",
    "plt.xlabel('Product')\n",
    "plt.ylabel('Average price')\n",
    "plt.plot(product_price.index, product_price.values)\n",
    "plt.show()"
   ]
  }
 ],
 "metadata": {
  "kernelspec": {
   "display_name": "Python 3",
   "language": "python",
   "name": "python3"
  },
  "language_info": {
   "codemirror_mode": {
    "name": "ipython",
    "version": 3
   },
   "file_extension": ".py",
   "mimetype": "text/x-python",
   "name": "python",
   "nbconvert_exporter": "python",
   "pygments_lexer": "ipython3",
   "version": "3.11.4"
  },
  "orig_nbformat": 4
 },
 "nbformat": 4,
 "nbformat_minor": 2
}
