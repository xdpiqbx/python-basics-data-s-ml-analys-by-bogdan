{
 "cells": [
  {
   "cell_type": "markdown",
   "id": "ef83fbac-1158-412e-bb16-6e9127822e3e",
   "metadata": {},
   "source": [
    "# Start with `Jupyter`"
   ]
  },
  {
   "cell_type": "code",
   "execution_count": 1,
   "id": "072fa417",
   "metadata": {},
   "outputs": [],
   "source": [
    "# pip install notebook\n",
    "# jupyter notebook --notebook-dir=D:/"
   ]
  },
  {
   "cell_type": "code",
   "execution_count": 2,
   "id": "913865da",
   "metadata": {},
   "outputs": [
    {
     "data": {
      "text/plain": [
       "56"
      ]
     },
     "execution_count": 2,
     "metadata": {},
     "output_type": "execute_result"
    }
   ],
   "source": [
    "7 * 8"
   ]
  },
  {
   "cell_type": "code",
   "execution_count": 3,
   "id": "d54edc33",
   "metadata": {},
   "outputs": [
    {
     "name": "stdout",
     "output_type": "stream",
     "text": [
      "John\n"
     ]
    }
   ],
   "source": [
    "print(\"John\")  # You do not see out"
   ]
  },
  {
   "cell_type": "code",
   "execution_count": 4,
   "id": "3e8b0d0a",
   "metadata": {},
   "outputs": [
    {
     "data": {
      "text/plain": [
       "'Bill'"
      ]
     },
     "execution_count": 4,
     "metadata": {},
     "output_type": "execute_result"
    }
   ],
   "source": [
    "\"Bill\"  # Now you see out"
   ]
  },
  {
   "cell_type": "code",
   "execution_count": 5,
   "id": "0ea2fd8f",
   "metadata": {
    "scrolled": true
   },
   "outputs": [
    {
     "data": {
      "text/plain": [
       "'Apple'"
      ]
     },
     "execution_count": 5,
     "metadata": {},
     "output_type": "execute_result"
    }
   ],
   "source": [
    "fruit = \"Apple\"\n",
    "fruit"
   ]
  },
  {
   "cell_type": "code",
   "execution_count": 7,
   "id": "3db467cd",
   "metadata": {
    "scrolled": true
   },
   "outputs": [
    {
     "data": {
      "text/plain": [
       "'Apple'"
      ]
     },
     "execution_count": 7,
     "metadata": {},
     "output_type": "execute_result"
    }
   ],
   "source": [
    "fruit"
   ]
  }
 ],
 "metadata": {
  "kernelspec": {
   "display_name": "Python 3 (ipykernel)",
   "language": "python",
   "name": "python3"
  },
  "language_info": {
   "codemirror_mode": {
    "name": "ipython",
    "version": 3
   },
   "file_extension": ".py",
   "mimetype": "text/x-python",
   "name": "python",
   "nbconvert_exporter": "python",
   "pygments_lexer": "ipython3",
   "version": "3.11.4"
  }
 },
 "nbformat": 4,
 "nbformat_minor": 5
}
