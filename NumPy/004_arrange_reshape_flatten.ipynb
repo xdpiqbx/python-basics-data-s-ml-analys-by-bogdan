{
 "cells": [
  {
   "cell_type": "markdown",
   "id": "4964181e-13b2-47e4-872a-25815332e799",
   "metadata": {},
   "source": [
    "# Arrange, Reshape and Flatten"
   ]
  },
  {
   "cell_type": "markdown",
   "id": "5e50e8bc",
   "metadata": {},
   "source": [
    "---\n",
    "### Arrange\n",
    "`np.arrange(start=from, [stop=to, step=step])`"
   ]
  },
  {
   "cell_type": "code",
   "execution_count": 2,
   "id": "89e5054a",
   "metadata": {},
   "outputs": [],
   "source": [
    "import numpy as np"
   ]
  },
  {
   "cell_type": "code",
   "execution_count": 3,
   "id": "9b3db53b",
   "metadata": {},
   "outputs": [
    {
     "data": {
      "text/plain": [
       "array([0, 1, 2, 3, 4, 5, 6, 7, 8, 9])"
      ]
     },
     "execution_count": 3,
     "metadata": {},
     "output_type": "execute_result"
    }
   ],
   "source": [
    "np.arange(10)"
   ]
  },
  {
   "cell_type": "code",
   "execution_count": 4,
   "id": "2644fe18",
   "metadata": {},
   "outputs": [
    {
     "data": {
      "text/plain": [
       "array([10, 11, 12, 13, 14])"
      ]
     },
     "execution_count": 4,
     "metadata": {},
     "output_type": "execute_result"
    }
   ],
   "source": [
    "np.arange(10, 15)"
   ]
  },
  {
   "cell_type": "code",
   "execution_count": 5,
   "id": "f99a7089",
   "metadata": {},
   "outputs": [
    {
     "data": {
      "text/plain": [
       "array([10, 12, 14, 16, 18])"
      ]
     },
     "execution_count": 5,
     "metadata": {},
     "output_type": "execute_result"
    }
   ],
   "source": [
    "np.arange(10, 20, 2)"
   ]
  },
  {
   "cell_type": "code",
   "execution_count": null,
   "id": "aa3fc529",
   "metadata": {},
   "outputs": [
    {
     "data": {
      "text/plain": [
       "array([10, 12, 14, 16, 18])"
      ]
     },
     "metadata": {},
     "output_type": "display_data"
    }
   ],
   "source": [
    "np.arange(10, 20, 2)"
   ]
  },
  {
   "cell_type": "code",
   "execution_count": 7,
   "id": "fdc48a88",
   "metadata": {},
   "outputs": [
    {
     "data": {
      "text/plain": [
       "array([-70, -60, -50, -40, -30, -20, -10,   0,  10,  20])"
      ]
     },
     "execution_count": 7,
     "metadata": {},
     "output_type": "execute_result"
    }
   ],
   "source": [
    "np.arange(start=-70, stop=25, step=10)"
   ]
  },
  {
   "cell_type": "markdown",
   "id": "77344113",
   "metadata": {},
   "source": [
    "---\n",
    "### Reshape\n",
    "\n",
    "`np.reshape(new array shape)`\n",
    "\n",
    "You can't reshape array if it contains less or more elements then you declare in the shape"
   ]
  },
  {
   "cell_type": "code",
   "execution_count": 16,
   "id": "d4c52277",
   "metadata": {},
   "outputs": [
    {
     "data": {
      "text/plain": [
       "array([ 0,  1,  2,  3,  4,  5,  6,  7,  8,  9, 10, 11, 12, 13, 14, 15])"
      ]
     },
     "execution_count": 16,
     "metadata": {},
     "output_type": "execute_result"
    }
   ],
   "source": [
    "numpy_ndarray = np.arange(16)\n",
    "numpy_ndarray"
   ]
  },
  {
   "cell_type": "code",
   "execution_count": 17,
   "id": "4c62ed40",
   "metadata": {},
   "outputs": [
    {
     "data": {
      "text/plain": [
       "array([[ 0,  1,  2,  3,  4,  5,  6,  7],\n",
       "       [ 8,  9, 10, 11, 12, 13, 14, 15]])"
      ]
     },
     "execution_count": 17,
     "metadata": {},
     "output_type": "execute_result"
    }
   ],
   "source": [
    "numpy_ndarray.reshape((2, 8))  # 2 * 8 = 16"
   ]
  },
  {
   "cell_type": "code",
   "execution_count": 18,
   "id": "0a62ebfb",
   "metadata": {},
   "outputs": [
    {
     "data": {
      "text/plain": [
       "array([[ 0,  1,  2,  3],\n",
       "       [ 4,  5,  6,  7],\n",
       "       [ 8,  9, 10, 11],\n",
       "       [12, 13, 14, 15]])"
      ]
     },
     "execution_count": 18,
     "metadata": {},
     "output_type": "execute_result"
    }
   ],
   "source": [
    "numpy_ndarray.reshape((4, 4))  # 4 * 4 = 16"
   ]
  },
  {
   "cell_type": "code",
   "execution_count": 19,
   "id": "c1f67d05",
   "metadata": {},
   "outputs": [
    {
     "data": {
      "text/plain": [
       "array([[[ 0,  1,  2,  3],\n",
       "        [ 4,  5,  6,  7]],\n",
       "\n",
       "       [[ 8,  9, 10, 11],\n",
       "        [12, 13, 14, 15]]])"
      ]
     },
     "execution_count": 19,
     "metadata": {},
     "output_type": "execute_result"
    }
   ],
   "source": [
    "numpy_ndarray.reshape((2, 2, 4))   # 2 * 2 * 4 = 16"
   ]
  },
  {
   "cell_type": "code",
   "execution_count": 24,
   "id": "e09d4d0c",
   "metadata": {},
   "outputs": [
    {
     "data": {
      "text/plain": [
       "array([[0.77132064, 0.02075195, 0.63364823, 0.74880388, 0.49850701],\n",
       "       [0.22479665, 0.19806286, 0.76053071, 0.16911084, 0.08833981]])"
      ]
     },
     "execution_count": 24,
     "metadata": {},
     "output_type": "execute_result"
    }
   ],
   "source": [
    "np.random.seed(10)  # not necessarily\n",
    "np.random.random((10,)).reshape((2, 5))   # 2 * 5 = 10"
   ]
  },
  {
   "cell_type": "code",
   "execution_count": 30,
   "id": "c8fd14dc",
   "metadata": {},
   "outputs": [
    {
     "ename": "ValueError",
     "evalue": "cannot reshape array of size 11 into shape (2,5)",
     "output_type": "error",
     "traceback": [
      "\u001b[1;31m---------------------------------------------------------------------------\u001b[0m",
      "\u001b[1;31mValueError\u001b[0m                                Traceback (most recent call last)",
      "Cell \u001b[1;32mIn[30], line 1\u001b[0m\n\u001b[1;32m----> 1\u001b[0m np\u001b[39m.\u001b[39;49mrandom\u001b[39m.\u001b[39;49mrandom((\u001b[39m11\u001b[39;49m,))\u001b[39m.\u001b[39;49mreshape((\u001b[39m2\u001b[39;49m, \u001b[39m5\u001b[39;49m))   \u001b[39m# Error 2 * 5 = 10 != 11\u001b[39;00m\n",
      "\u001b[1;31mValueError\u001b[0m: cannot reshape array of size 11 into shape (2,5)"
     ]
    }
   ],
   "source": [
    "np.random.random((11,)).reshape((2, 5))   # Error 2 * 5 = 10 != 11"
   ]
  },
  {
   "cell_type": "markdown",
   "id": "4c65ce51",
   "metadata": {},
   "source": [
    "---\n",
    "### Flatten\n",
    "`.flatten()` - any array to 1 dim array"
   ]
  },
  {
   "cell_type": "code",
   "execution_count": 31,
   "id": "6e0b432f",
   "metadata": {},
   "outputs": [
    {
     "data": {
      "text/plain": [
       "array([15, 11, 17, 13, 10, 10, 15, 11, 10, 15, 13, 13, 12, 17, 10, 15, 10,\n",
       "       14, 17, 15, 16, 13, 11, 11, 16, 11, 15, 16, 15, 11, 11, 14, 17, 16,\n",
       "       14, 17])"
      ]
     },
     "execution_count": 31,
     "metadata": {},
     "output_type": "execute_result"
    }
   ],
   "source": [
    "np.random.randint(10, 18, (4, 3, 3)).flatten()"
   ]
  }
 ],
 "metadata": {
  "kernelspec": {
   "display_name": "Python 3 (ipykernel)",
   "language": "python",
   "name": "python3"
  },
  "language_info": {
   "codemirror_mode": {
    "name": "ipython",
    "version": 3
   },
   "file_extension": ".py",
   "mimetype": "text/x-python",
   "name": "python",
   "nbconvert_exporter": "python",
   "pygments_lexer": "ipython3",
   "version": "3.11.4"
  }
 },
 "nbformat": 4,
 "nbformat_minor": 5
}
