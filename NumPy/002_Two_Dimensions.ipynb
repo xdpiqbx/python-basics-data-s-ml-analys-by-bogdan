{
 "cells": [
  {
   "cell_type": "code",
   "execution_count": 1,
   "id": "0c161d00-20ab-472c-a02c-418e61b568a7",
   "metadata": {},
   "outputs": [],
   "source": [
    "import numpy as np"
   ]
  },
  {
   "cell_type": "markdown",
   "id": "38fa3922-c0c0-4f80-882a-d413a229d674",
   "metadata": {},
   "source": [
    "## Create 2 dim arrays"
   ]
  },
  {
   "cell_type": "code",
   "execution_count": 2,
   "id": "8bc6cad0-a8f7-44b1-a079-1bbb14649c9c",
   "metadata": {},
   "outputs": [
    {
     "data": {
      "text/plain": [
       "array([[1, 2, 3],\n",
       "       [4, 5, 6]])"
      ]
     },
     "execution_count": 2,
     "metadata": {},
     "output_type": "execute_result"
    }
   ],
   "source": [
    "first = np.array(\n",
    "    [\n",
    "        [1, 2, 3],\n",
    "        [4, 5, 6]\n",
    "    ]\n",
    ")\n",
    "first"
   ]
  },
  {
   "cell_type": "code",
   "execution_count": 3,
   "id": "cbfd2f9a-ab51-47c6-a534-a7af524fe14f",
   "metadata": {},
   "outputs": [
    {
     "data": {
      "text/plain": [
       "(2, 3)"
      ]
     },
     "execution_count": 3,
     "metadata": {},
     "output_type": "execute_result"
    }
   ],
   "source": [
    "first.shape"
   ]
  },
  {
   "cell_type": "code",
   "execution_count": 4,
   "id": "ff24f8e7-6808-4da1-bb3d-5d2d66fe405b",
   "metadata": {},
   "outputs": [
    {
     "data": {
      "text/plain": [
       "2"
      ]
     },
     "execution_count": 4,
     "metadata": {},
     "output_type": "execute_result"
    }
   ],
   "source": [
    "first.ndim"
   ]
  },
  {
   "cell_type": "code",
   "execution_count": 5,
   "id": "3e4ecaf4-9d72-4ffb-a7df-0c0219a1ec0a",
   "metadata": {},
   "outputs": [
    {
     "data": {
      "text/plain": [
       "array([[ 7,  8,  9],\n",
       "       [10, 11, 12]])"
      ]
     },
     "execution_count": 5,
     "metadata": {},
     "output_type": "execute_result"
    }
   ],
   "source": [
    "second = np.array(\n",
    "    [\n",
    "        [7, 8, 9],\n",
    "        [10, 11, 12]\n",
    "    ]\n",
    ")\n",
    "second"
   ]
  },
  {
   "cell_type": "markdown",
   "id": "3b199dc7-f84c-4dd5-a80b-d3bba84d24ab",
   "metadata": {},
   "source": [
    "## Math opetarions"
   ]
  },
  {
   "cell_type": "code",
   "execution_count": 6,
   "id": "b88fe873-f7dc-4171-a753-a3f3941a625d",
   "metadata": {},
   "outputs": [
    {
     "data": {
      "text/plain": [
       "array([[ 8, 10, 12],\n",
       "       [14, 16, 18]])"
      ]
     },
     "execution_count": 6,
     "metadata": {},
     "output_type": "execute_result"
    }
   ],
   "source": [
    "first + second"
   ]
  },
  {
   "cell_type": "code",
   "execution_count": 7,
   "id": "786580f5-f951-4140-a0e7-65b8de9fbe34",
   "metadata": {},
   "outputs": [
    {
     "data": {
      "text/plain": [
       "array([[2, 3, 4],\n",
       "       [5, 6, 7]])"
      ]
     },
     "execution_count": 7,
     "metadata": {},
     "output_type": "execute_result"
    }
   ],
   "source": [
    "first + 1"
   ]
  },
  {
   "cell_type": "code",
   "execution_count": 8,
   "id": "4594e4b5-cd12-4ee6-ba4b-d668eb831686",
   "metadata": {},
   "outputs": [
    {
     "data": {
      "text/plain": [
       "array([[0.5, 1. , 1.5],\n",
       "       [2. , 2.5, 3. ]])"
      ]
     },
     "execution_count": 8,
     "metadata": {},
     "output_type": "execute_result"
    }
   ],
   "source": [
    "first / 2"
   ]
  },
  {
   "cell_type": "markdown",
   "id": "23cd1cbe-01f3-48b9-8673-1d533f533622",
   "metadata": {},
   "source": [
    "## Axes in arrays"
   ]
  },
  {
   "cell_type": "markdown",
   "id": "ef175771-71ca-4f76-afcf-38a5cd449cf4",
   "metadata": {},
   "source": [
    "### 1 Dimension"
   ]
  },
  {
   "cell_type": "code",
   "execution_count": 9,
   "id": "7369666f-6c09-4eb8-babf-7c3ef441beab",
   "metadata": {},
   "outputs": [],
   "source": [
    "one_dim = np.array([1, 2, 3, 4])"
   ]
  },
  {
   "cell_type": "code",
   "execution_count": 10,
   "id": "5fb689f6-8d62-45eb-a090-22ed4432d8bc",
   "metadata": {},
   "outputs": [
    {
     "data": {
      "text/plain": [
       "(4,)"
      ]
     },
     "execution_count": 10,
     "metadata": {},
     "output_type": "execute_result"
    }
   ],
   "source": [
    "one_dim.shape"
   ]
  },
  {
   "cell_type": "markdown",
   "id": "4ffd2370-45f7-4fdb-8ddf-1f55aa60edb3",
   "metadata": {},
   "source": [
    "![1 dimension axes](./images/1dim_axes.jpg)"
   ]
  },
  {
   "cell_type": "markdown",
   "id": "292a6523-1191-4af2-a0cb-88382f37af48",
   "metadata": {},
   "source": [
    "### 2 Dimensions"
   ]
  },
  {
   "cell_type": "code",
   "execution_count": 11,
   "id": "77e40813-82e7-4685-8973-15ddd0775b57",
   "metadata": {},
   "outputs": [],
   "source": [
    "two_dim = np.array(\n",
    "    [\n",
    "        [1, 2, 3],\n",
    "        [4, 5, 6]\n",
    "    ]\n",
    ")"
   ]
  },
  {
   "cell_type": "code",
   "execution_count": 12,
   "id": "2b0f9bbb-179a-4acf-85fa-485faf286280",
   "metadata": {},
   "outputs": [
    {
     "data": {
      "text/plain": [
       "(2, 3)"
      ]
     },
     "execution_count": 12,
     "metadata": {},
     "output_type": "execute_result"
    }
   ],
   "source": [
    "two_dim.shape  # 2 in axis 0 and 3 in axis 1"
   ]
  },
  {
   "cell_type": "markdown",
   "id": "09bac00e-1d88-485e-8992-8778f91f4644",
   "metadata": {},
   "source": [
    "![2 dimension axes](./images/2dim_axes.jpg)"
   ]
  },
  {
   "cell_type": "markdown",
   "id": "49615f28-fe07-44f9-87d8-e6b3169f39bb",
   "metadata": {},
   "source": [
    "### 3 Dimensions"
   ]
  },
  {
   "cell_type": "code",
   "execution_count": 13,
   "id": "1309ff0b-51c6-4b7b-b774-3fef9e4a0d2f",
   "metadata": {},
   "outputs": [],
   "source": [
    "three_dim = np.array(\n",
    "    [\n",
    "        [\n",
    "            [1, 2, 3],\n",
    "            [4, 5, 6]\n",
    "        ],\n",
    "        [\n",
    "            [7, 8, 9],\n",
    "            [10, 11, 12]\n",
    "        ]\n",
    "    ]\n",
    ")"
   ]
  },
  {
   "cell_type": "code",
   "execution_count": 14,
   "id": "4a743646-4397-4616-865a-dfa83997fb6e",
   "metadata": {},
   "outputs": [
    {
     "data": {
      "text/plain": [
       "(2, 2, 3)"
      ]
     },
     "execution_count": 14,
     "metadata": {},
     "output_type": "execute_result"
    }
   ],
   "source": [
    "three_dim.shape"
   ]
  },
  {
   "cell_type": "code",
   "execution_count": 15,
   "id": "36f13df4-d05b-4165-be83-2101510d4551",
   "metadata": {},
   "outputs": [
    {
     "data": {
      "text/plain": [
       "9"
      ]
     },
     "execution_count": 15,
     "metadata": {},
     "output_type": "execute_result"
    }
   ],
   "source": [
    "three_dim[1][0][2]"
   ]
  },
  {
   "cell_type": "code",
   "execution_count": 16,
   "id": "bf04fc43-afc1-4217-8564-d28a8b305d0a",
   "metadata": {},
   "outputs": [
    {
     "data": {
      "text/plain": [
       "9"
      ]
     },
     "execution_count": 16,
     "metadata": {},
     "output_type": "execute_result"
    }
   ],
   "source": [
    "three_dim[1, 0, 2]"
   ]
  },
  {
   "cell_type": "markdown",
   "id": "fb4e9a3d-064c-49f1-920e-86680e6860cf",
   "metadata": {},
   "source": [
    "![3 dimension axes](./images/3dim_axes.jpg)"
   ]
  },
  {
   "cell_type": "markdown",
   "id": "7e20a582-f1b6-4c52-b33d-8aa17774ff0d",
   "metadata": {},
   "source": [
    "## Concat arrays by axis"
   ]
  },
  {
   "cell_type": "markdown",
   "id": "e27e68f9-1371-4fd9-ae46-e81cae863359",
   "metadata": {},
   "source": [
    "### Concar 2 dim arrays"
   ]
  },
  {
   "cell_type": "code",
   "execution_count": 19,
   "id": "701583a5-c74a-4a59-8f33-9b38a74174e3",
   "metadata": {},
   "outputs": [
    {
     "data": {
      "text/plain": [
       "array([[ 1,  2,  3],\n",
       "       [ 4,  5,  6],\n",
       "       [ 7,  8,  9],\n",
       "       [10, 11, 12]])"
      ]
     },
     "execution_count": 19,
     "metadata": {},
     "output_type": "execute_result"
    }
   ],
   "source": [
    "concatenated_arr = np.concatenate((first, second))\n",
    "concatenated_arr  # as default concat by axes 0"
   ]
  },
  {
   "cell_type": "code",
   "execution_count": 20,
   "id": "2c007862-ba7b-4866-90b0-aab23f702df2",
   "metadata": {},
   "outputs": [
    {
     "data": {
      "text/plain": [
       "(4, 3)"
      ]
     },
     "execution_count": 20,
     "metadata": {},
     "output_type": "execute_result"
    }
   ],
   "source": [
    "concatenated_arr.shape"
   ]
  },
  {
   "cell_type": "code",
   "execution_count": 21,
   "id": "82a431fc-d9cc-48c7-ab06-dff68e651369",
   "metadata": {},
   "outputs": [
    {
     "data": {
      "text/plain": [
       "array([[ 1,  2,  3,  7,  8,  9],\n",
       "       [ 4,  5,  6, 10, 11, 12]])"
      ]
     },
     "execution_count": 21,
     "metadata": {},
     "output_type": "execute_result"
    }
   ],
   "source": [
    "concatenated_arr = np.concatenate((first, second), axis=1)\n",
    "concatenated_arr"
   ]
  },
  {
   "cell_type": "code",
   "execution_count": 22,
   "id": "f1244dd7-247d-4d4e-9cca-25200660f9b8",
   "metadata": {},
   "outputs": [
    {
     "data": {
      "text/plain": [
       "(2, 6)"
      ]
     },
     "execution_count": 22,
     "metadata": {},
     "output_type": "execute_result"
    }
   ],
   "source": [
    "concatenated_arr.shape"
   ]
  },
  {
   "cell_type": "markdown",
   "id": "47950da2-dfef-4e72-b418-11b2b73b2316",
   "metadata": {},
   "source": [
    "### Concat 1 dim arrays"
   ]
  },
  {
   "cell_type": "code",
   "execution_count": 24,
   "id": "a448ab68-427c-48c3-8251-0d4c5afb35af",
   "metadata": {},
   "outputs": [
    {
     "data": {
      "text/plain": [
       "array([1, 2, 3, 4, 5, 6, 7, 8])"
      ]
     },
     "execution_count": 24,
     "metadata": {},
     "output_type": "execute_result"
    }
   ],
   "source": [
    "np.concatenate((np.array([1, 2, 3, 4]), np.array([5, 6, 7, 8])))"
   ]
  }
 ],
 "metadata": {
  "kernelspec": {
   "display_name": "Python 3 (ipykernel)",
   "language": "python",
   "name": "python3"
  },
  "language_info": {
   "codemirror_mode": {
    "name": "ipython",
    "version": 3
   },
   "file_extension": ".py",
   "mimetype": "text/x-python",
   "name": "python",
   "nbconvert_exporter": "python",
   "pygments_lexer": "ipython3",
   "version": "3.11.4"
  }
 },
 "nbformat": 4,
 "nbformat_minor": 5
}
