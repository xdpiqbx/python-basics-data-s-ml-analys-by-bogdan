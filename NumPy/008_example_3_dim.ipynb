{
 "cells": [
  {
   "cell_type": "code",
   "execution_count": 1,
   "metadata": {},
   "outputs": [],
   "source": [
    "import numpy as np"
   ]
  },
  {
   "cell_type": "markdown",
   "metadata": {},
   "source": [
    "### 001. Generation of the sample stock data"
   ]
  },
  {
   "cell_type": "code",
   "execution_count": 9,
   "metadata": {},
   "outputs": [],
   "source": [
    "companies = ['Google', 'Microsoft', 'Apple']\n",
    "days = [\"Mon 1 April\", \"Tue 2 April\"]\n",
    "prices = ['Open', 'Close', 'High', 'Low']"
   ]
  },
  {
   "cell_type": "code",
   "execution_count": 10,
   "metadata": {},
   "outputs": [
    {
     "data": {
      "text/plain": [
       "array([[[0.417, 0.72 , 0.   , 0.302],\n",
       "        [0.147, 0.092, 0.186, 0.346]],\n",
       "\n",
       "       [[0.397, 0.539, 0.419, 0.685],\n",
       "        [0.204, 0.878, 0.027, 0.67 ]],\n",
       "\n",
       "       [[0.417, 0.559, 0.14 , 0.198],\n",
       "        [0.801, 0.968, 0.313, 0.692]]])"
      ]
     },
     "execution_count": 10,
     "metadata": {},
     "output_type": "execute_result"
    }
   ],
   "source": [
    "np.random.seed(1)\n",
    "stock_prices = np.round(\n",
    "    np.random.random(\n",
    "        (len(companies), len(days), len(prices))\n",
    "    ), 3\n",
    ")\n",
    "stock_prices"
   ]
  },
  {
   "cell_type": "code",
   "execution_count": 11,
   "metadata": {},
   "outputs": [
    {
     "data": {
      "text/plain": [
       "(3, 2, 4)"
      ]
     },
     "execution_count": 11,
     "metadata": {},
     "output_type": "execute_result"
    }
   ],
   "source": [
    "stock_prices.shape"
   ]
  },
  {
   "cell_type": "code",
   "execution_count": 25,
   "metadata": {},
   "outputs": [
    {
     "data": {
      "text/plain": [
       "array([[[0., 0., 0., 0.],\n",
       "        [0., 0., 0., 0.]],\n",
       "\n",
       "       [[0., 0., 0., 0.],\n",
       "        [0., 0., 0., 0.]],\n",
       "\n",
       "       [[0., 0., 0., 0.],\n",
       "        [0., 0., 0., 0.]]])"
      ]
     },
     "execution_count": 25,
     "metadata": {},
     "output_type": "execute_result"
    }
   ],
   "source": [
    "sort_prices = np.zeros(stock_prices.shape)"
   ]
  },
  {
   "cell_type": "code",
   "execution_count": 47,
   "metadata": {},
   "outputs": [
    {
     "data": {
      "text/plain": [
       "array([[[0.417, 0.302, 0.72 , 0.   ],\n",
       "        [0.186, 0.147, 0.346, 0.092]],\n",
       "\n",
       "       [[0.539, 0.419, 0.685, 0.397],\n",
       "        [0.67 , 0.204, 0.878, 0.027]],\n",
       "\n",
       "       [[0.417, 0.198, 0.559, 0.14 ],\n",
       "        [0.801, 0.692, 0.968, 0.313]]])"
      ]
     },
     "execution_count": 47,
     "metadata": {},
     "output_type": "execute_result"
    }
   ],
   "source": [
    "sort_prices = stock_prices.copy()\n",
    "for i, company in enumerate(companies):\n",
    "    for j, day in enumerate(days):\n",
    "        stock_prices[i, j].sort()\n",
    "\n",
    "        # Switch lowest and open price\n",
    "        it_will_be_open_price = stock_prices[i, j, 2]\n",
    "        stock_prices[i][j][2] = stock_prices[i][j][0]\n",
    "        stock_prices[i][j][0] = it_will_be_open_price\n",
    "\n",
    "        # Switch lowest and highest\n",
    "        it_will_be_highest_price = stock_prices[i][j][3]\n",
    "        stock_prices[i][j][3] = stock_prices[i][j][2]\n",
    "        stock_prices[i][j][2] = it_will_be_highest_price\n",
    "\n",
    "stock_prices = sort_prices.copy()\n",
    "stock_prices"
   ]
  },
  {
   "cell_type": "code",
   "execution_count": 45,
   "metadata": {},
   "outputs": [
    {
     "name": "stdout",
     "output_type": "stream",
     "text": [
      "Stock prices for the Google:\n",
      "  Stock on Mon 1 April\n",
      "    Open: 0.417\n",
      "    Close: 0.302\n",
      "    High: 0.72\n",
      "    Low: 0.0\n",
      "  Stock on Tue 2 April\n",
      "    Open: 0.186\n",
      "    Close: 0.147\n",
      "    High: 0.346\n",
      "    Low: 0.092\n",
      "\n",
      "Stock prices for the Microsoft:\n",
      "  Stock on Mon 1 April\n",
      "    Open: 0.539\n",
      "    Close: 0.419\n",
      "    High: 0.685\n",
      "    Low: 0.397\n",
      "  Stock on Tue 2 April\n",
      "    Open: 0.67\n",
      "    Close: 0.204\n",
      "    High: 0.878\n",
      "    Low: 0.027\n",
      "\n",
      "Stock prices for the Apple:\n",
      "  Stock on Mon 1 April\n",
      "    Open: 0.417\n",
      "    Close: 0.198\n",
      "    High: 0.559\n",
      "    Low: 0.14\n",
      "  Stock on Tue 2 April\n",
      "    Open: 0.801\n",
      "    Close: 0.692\n",
      "    High: 0.968\n",
      "    Low: 0.313\n",
      "\n"
     ]
    }
   ],
   "source": [
    "for i, company in enumerate(companies):\n",
    "    print(f\"Stock prices for the {company}:\")\n",
    "    for j, day in enumerate(days):\n",
    "        print(f\"  Stock on {day}\")\n",
    "        for k, price in enumerate(prices):\n",
    "            print(f\"    {price}: {stock_prices[i, j, k]}\")\n",
    "    print('')"
   ]
  },
  {
   "cell_type": "code",
   "execution_count": 43,
   "metadata": {},
   "outputs": [
    {
     "data": {
      "text/plain": [
       "3"
      ]
     },
     "execution_count": 43,
     "metadata": {},
     "output_type": "execute_result"
    }
   ],
   "source": [
    "stock_prices.ndim"
   ]
  }
 ],
 "metadata": {
  "kernelspec": {
   "display_name": "Python 3",
   "language": "python",
   "name": "python3"
  },
  "language_info": {
   "codemirror_mode": {
    "name": "ipython",
    "version": 3
   },
   "file_extension": ".py",
   "mimetype": "text/x-python",
   "name": "python",
   "nbconvert_exporter": "python",
   "pygments_lexer": "ipython3",
   "version": "3.11.4"
  },
  "orig_nbformat": 4
 },
 "nbformat": 4,
 "nbformat_minor": 2
}
