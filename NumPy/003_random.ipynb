{
 "cells": [
  {
   "cell_type": "code",
   "execution_count": 1,
   "id": "253327ce-e00b-4ac2-a36a-81a3cda6495e",
   "metadata": {},
   "outputs": [],
   "source": [
    "import numpy as np"
   ]
  },
  {
   "cell_type": "markdown",
   "id": "f52d991d-034b-49f4-bf21-cdfb37b08916",
   "metadata": {},
   "source": [
    "### `np.zeros(tuple_shape, [dtype=arr_type])`"
   ]
  },
  {
   "cell_type": "code",
   "execution_count": 10,
   "id": "6c4b9513-3aa6-4b8b-a2d7-d6e6935dd5be",
   "metadata": {},
   "outputs": [
    {
     "data": {
      "text/plain": [
       "array([[0., 0., 0., 0.],\n",
       "       [0., 0., 0., 0.],\n",
       "       [0., 0., 0., 0.]])"
      ]
     },
     "execution_count": 10,
     "metadata": {},
     "output_type": "execute_result"
    }
   ],
   "source": [
    "np.zeros((3, 4))"
   ]
  },
  {
   "cell_type": "code",
   "execution_count": 8,
   "id": "bb97b54f-b544-49a4-a6c4-1524b4c41b26",
   "metadata": {},
   "outputs": [
    {
     "data": {
      "text/plain": [
       "array([[0, 0, 0, 0],\n",
       "       [0, 0, 0, 0],\n",
       "       [0, 0, 0, 0]])"
      ]
     },
     "execution_count": 8,
     "metadata": {},
     "output_type": "execute_result"
    }
   ],
   "source": [
    "np.zeros((3, 4), dtype=int)"
   ]
  },
  {
   "cell_type": "code",
   "execution_count": 9,
   "id": "16c5aab3-5be0-4c78-a7b3-c4f49368e00e",
   "metadata": {},
   "outputs": [
    {
     "data": {
      "text/plain": [
       "array([[False, False, False, False],\n",
       "       [False, False, False, False],\n",
       "       [False, False, False, False]])"
      ]
     },
     "execution_count": 9,
     "metadata": {},
     "output_type": "execute_result"
    }
   ],
   "source": [
    "np.zeros((3, 4), dtype=bool)"
   ]
  },
  {
   "cell_type": "markdown",
   "id": "65b9910e-a877-4bf3-8b95-4538f5b4f97c",
   "metadata": {},
   "source": [
    "### `np.ones(tuple_shape, [dtype=arr_type])`"
   ]
  },
  {
   "cell_type": "code",
   "execution_count": 11,
   "id": "12ab8b7a-5fe7-4053-9b12-eaff53c91af3",
   "metadata": {},
   "outputs": [
    {
     "data": {
      "text/plain": [
       "array([[1., 1., 1., 1.],\n",
       "       [1., 1., 1., 1.],\n",
       "       [1., 1., 1., 1.]])"
      ]
     },
     "execution_count": 11,
     "metadata": {},
     "output_type": "execute_result"
    }
   ],
   "source": [
    "np.ones((3, 4))"
   ]
  },
  {
   "cell_type": "code",
   "execution_count": 12,
   "id": "e3f908f1-72b1-44c6-b2cd-99d310db36b5",
   "metadata": {},
   "outputs": [
    {
     "data": {
      "text/plain": [
       "array([['1', '1', '1', '1'],\n",
       "       ['1', '1', '1', '1'],\n",
       "       ['1', '1', '1', '1']], dtype='<U1')"
      ]
     },
     "execution_count": 12,
     "metadata": {},
     "output_type": "execute_result"
    }
   ],
   "source": [
    "np.ones((3, 4), dtype=str)"
   ]
  },
  {
   "cell_type": "code",
   "execution_count": 24,
   "id": "c953a7c8-a444-4275-94dd-91a268a9211a",
   "metadata": {},
   "outputs": [
    {
     "data": {
      "text/plain": [
       "array([[ True,  True,  True,  True],\n",
       "       [ True,  True,  True,  True],\n",
       "       [ True,  True,  True,  True]])"
      ]
     },
     "execution_count": 24,
     "metadata": {},
     "output_type": "execute_result"
    }
   ],
   "source": [
    "np.ones((3, 4), dtype=bool)"
   ]
  },
  {
   "cell_type": "markdown",
   "id": "9eae3949-1a87-4b84-8e21-bbceb0a50a66",
   "metadata": {},
   "source": [
    "### `np.random`"
   ]
  },
  {
   "cell_type": "markdown",
   "id": "7183906b-d5b3-4b2f-bf04-8493cf7b7dda",
   "metadata": {},
   "source": [
    "#### np.random.random"
   ]
  },
  {
   "cell_type": "code",
   "execution_count": 43,
   "id": "6a3340e9-0608-4597-ac44-1b239a0b5e1a",
   "metadata": {},
   "outputs": [
    {
     "data": {
      "text/plain": [
       "array([[0.77132064, 0.02075195, 0.63364823, 0.74880388],\n",
       "       [0.49850701, 0.22479665, 0.19806286, 0.76053071]])"
      ]
     },
     "execution_count": 43,
     "metadata": {},
     "output_type": "execute_result"
    }
   ],
   "source": [
    "np.random.seed(10)  # start for algo (you will have same nums)\n",
    "np.random.random((2, 4))"
   ]
  },
  {
   "cell_type": "markdown",
   "id": "2a48efdd-bab9-4571-8355-02b703647d19",
   "metadata": {},
   "source": [
    "#### np.random.randint"
   ]
  },
  {
   "cell_type": "code",
   "execution_count": 63,
   "id": "9a0163e6-23f5-4a56-956c-b068e41cf9d8",
   "metadata": {},
   "outputs": [
    {
     "data": {
      "text/plain": [
       "array([[18, 15, 15, 17],\n",
       "       [10, 17, 15, 16]])"
      ]
     },
     "execution_count": 63,
     "metadata": {},
     "output_type": "execute_result"
    }
   ],
   "source": [
    "np.random.seed(15)\n",
    "np.random.randint(10, 20, size=(2, 4))  # randint(from, to, size=shape)"
   ]
  },
  {
   "cell_type": "markdown",
   "id": "15b4a247-2e06-4bd2-b134-29810dc10fa6",
   "metadata": {},
   "source": [
    "#### np.random.uniform"
   ]
  },
  {
   "cell_type": "code",
   "execution_count": 64,
   "id": "bb0e26ea-b040-4bf5-9cab-85b3ae72672d",
   "metadata": {},
   "outputs": [
    {
     "data": {
      "text/plain": [
       "array([[0.30591892, 0.30447436, 0.11174128, 0.24989901, 0.9176299 ],\n",
       "       [0.26414685, 0.71777369, 0.86571503, 0.80707948, 0.21055058],\n",
       "       [0.16724303, 0.04670639, 0.03942231, 0.20023081, 0.9985434 ]])"
      ]
     },
     "execution_count": 64,
     "metadata": {},
     "output_type": "execute_result"
    }
   ],
   "source": [
    "np.random.uniform(size=(3, 5))"
   ]
  },
  {
   "cell_type": "code",
   "execution_count": 67,
   "id": "a31a0b01-d709-48ee-b038-b5d1ce3d77bc",
   "metadata": {},
   "outputs": [
    {
     "data": {
      "text/plain": [
       "array([[40.85282573, 10.83007797, 35.3459294 , 39.9521553 , 29.94028049],\n",
       "       [18.99186582, 17.92251459, 40.42122849, 16.76443346, 13.53359257],\n",
       "       [37.41439273, 48.13573385, 10.15793065, 30.48769054, 42.50483847]])"
      ]
     },
     "execution_count": 67,
     "metadata": {},
     "output_type": "execute_result"
    }
   ],
   "source": [
    "np.random.seed(10)\n",
    "np.random.uniform(10.0, 50.0, size=(3, 5))"
   ]
  },
  {
   "cell_type": "markdown",
   "id": "49bb6eb2-336b-48c2-8dfa-23a7eae8ced5",
   "metadata": {},
   "source": [
    "#### np.random.choice"
   ]
  },
  {
   "cell_type": "code",
   "execution_count": 70,
   "id": "8ee3eafc-1010-4b14-8a3e-76cae1a640fc",
   "metadata": {},
   "outputs": [
    {
     "data": {
      "text/plain": [
       "array([2, 2, 1, 1, 2, 1, 2, 2, 1, 2, 2, 3, 1, 2, 1, 3, 1, 3, 1, 1])"
      ]
     },
     "execution_count": 70,
     "metadata": {},
     "output_type": "execute_result"
    }
   ],
   "source": [
    "np.random.seed(10)\n",
    "np.random.choice(np.array([1, 2, 3]), size=20)"
   ]
  }
 ],
 "metadata": {
  "kernelspec": {
   "display_name": "Python 3 (ipykernel)",
   "language": "python",
   "name": "python3"
  },
  "language_info": {
   "codemirror_mode": {
    "name": "ipython",
    "version": 3
   },
   "file_extension": ".py",
   "mimetype": "text/x-python",
   "name": "python",
   "nbconvert_exporter": "python",
   "pygments_lexer": "ipython3",
   "version": "3.11.4"
  }
 },
 "nbformat": 4,
 "nbformat_minor": 5
}
