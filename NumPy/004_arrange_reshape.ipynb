{
 "cells": [
  {
   "cell_type": "markdown",
   "id": "4964181e-13b2-47e4-872a-25815332e799",
   "metadata": {},
   "source": [
    "# Arrange and Reshape"
   ]
  },
  {
   "cell_type": "code",
   "execution_count": 2,
   "id": "b24ac3b7",
   "metadata": {},
   "outputs": [
    {
     "data": {
      "text/plain": [
       "15"
      ]
     },
     "execution_count": 2,
     "metadata": {},
     "output_type": "execute_result"
    }
   ],
   "source": [
    "7 + 8"
   ]
  }
 ],
 "metadata": {
  "kernelspec": {
   "display_name": "Python 3 (ipykernel)",
   "language": "python",
   "name": "python3"
  },
  "language_info": {
   "codemirror_mode": {
    "name": "ipython",
    "version": 3
   },
   "file_extension": ".py",
   "mimetype": "text/x-python",
   "name": "python",
   "nbconvert_exporter": "python",
   "pygments_lexer": "ipython3",
   "version": "3.10.10"
  }
 },
 "nbformat": 4,
 "nbformat_minor": 5
}
